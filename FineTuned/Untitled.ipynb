{
 "cells": [
  {
   "cell_type": "code",
   "execution_count": null,
   "id": "fac6c547-009b-45f8-8eb5-8c7f1c247448",
   "metadata": {},
   "outputs": [],
   "source": []
  }
 ],
 "metadata": {
  "kernelspec": {
   "display_name": "",
   "name": ""
  },
  "language_info": {
   "name": ""
  }
 },
 "nbformat": 4,
 "nbformat_minor": 5
}
